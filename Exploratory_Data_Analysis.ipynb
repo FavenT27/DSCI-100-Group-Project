{
 "cells": [
  {
   "cell_type": "markdown",
   "id": "834fc7e3-a308-4ddf-a971-a413473d1d25",
   "metadata": {},
   "source": [
    "## Preliminary Data Exploratory Data Analysis"
   ]
  },
  {
   "cell_type": "code",
   "execution_count": 28,
   "id": "1a5c2a50-b3ac-46b4-8e6c-814a8b14541c",
   "metadata": {},
   "outputs": [],
   "source": [
    "# To do:\n",
    "# Clean/wrangle the data\n",
    "# Make visualization study time vs knowledge\n",
    "# Make visualization repetition vs knowledge\n"
   ]
  },
  {
   "cell_type": "code",
   "execution_count": 6,
   "id": "6b8decab-6a81-40c5-ac24-93233a43096c",
   "metadata": {},
   "outputs": [
    {
     "name": "stderr",
     "output_type": "stream",
     "text": [
      "── \u001b[1mAttaching core tidyverse packages\u001b[22m ──────────────────────── tidyverse 2.0.0 ──\n",
      "\u001b[32m✔\u001b[39m \u001b[34mdplyr    \u001b[39m 1.1.3     \u001b[32m✔\u001b[39m \u001b[34mreadr    \u001b[39m 2.1.4\n",
      "\u001b[32m✔\u001b[39m \u001b[34mforcats  \u001b[39m 1.0.0     \u001b[32m✔\u001b[39m \u001b[34mstringr  \u001b[39m 1.5.0\n",
      "\u001b[32m✔\u001b[39m \u001b[34mggplot2  \u001b[39m 3.4.4     \u001b[32m✔\u001b[39m \u001b[34mtibble   \u001b[39m 3.2.1\n",
      "\u001b[32m✔\u001b[39m \u001b[34mlubridate\u001b[39m 1.9.3     \u001b[32m✔\u001b[39m \u001b[34mtidyr    \u001b[39m 1.3.0\n",
      "\u001b[32m✔\u001b[39m \u001b[34mpurrr    \u001b[39m 1.0.2     \n",
      "── \u001b[1mConflicts\u001b[22m ────────────────────────────────────────── tidyverse_conflicts() ──\n",
      "\u001b[31m✖\u001b[39m \u001b[34mdplyr\u001b[39m::\u001b[32mfilter()\u001b[39m masks \u001b[34mstats\u001b[39m::filter()\n",
      "\u001b[31m✖\u001b[39m \u001b[34mdplyr\u001b[39m::\u001b[32mlag()\u001b[39m    masks \u001b[34mstats\u001b[39m::lag()\n",
      "\u001b[36mℹ\u001b[39m Use the conflicted package (\u001b[3m\u001b[34m<http://conflicted.r-lib.org/>\u001b[39m\u001b[23m) to force all conflicts to become errors\n",
      "\n",
      "Attaching package: ‘rvest’\n",
      "\n",
      "\n",
      "The following object is masked from ‘package:readr’:\n",
      "\n",
      "    guess_encoding\n",
      "\n",
      "\n",
      "\n",
      "Attaching package: ‘janitor’\n",
      "\n",
      "\n",
      "The following objects are masked from ‘package:stats’:\n",
      "\n",
      "    chisq.test, fisher.test\n",
      "\n",
      "\n"
     ]
    }
   ],
   "source": [
    "# Necessary libraries\n",
    "library(tidyverse)\n",
    "library(repr)\n",
    "library(rvest)\n",
    "library(stringr)\n",
    "library(janitor)\n",
    "options(repr.matrix.max.rows = 6)\n"
   ]
  },
  {
   "attachments": {},
   "cell_type": "markdown",
   "id": "95b5fde1-421a-4098-88e6-22af77ced002",
   "metadata": {},
   "source": [
    "### How to Interpret Column names\n",
    "\n",
    "- STG (The degree of study time for goal object materials)\n",
    "- SCG (The degree of repetition number of user for goal object materials)\n",
    "- STR (The degree of study time of user for related objects with goal object)\n",
    "- LPR (The exam performance of user for related objects with goal object)\n",
    "- PEG (The exam performance of user for goal objects)\n",
    "- UNS (The knowledge level of user)"
   ]
  },
  {
   "cell_type": "code",
   "execution_count": 39,
   "id": "ac704ded-73bb-4edb-8bf8-da52370a3dfe",
   "metadata": {},
   "outputs": [
    {
     "name": "stderr",
     "output_type": "stream",
     "text": [
      "\u001b[1m\u001b[22mNew names:\n",
      "\u001b[36m•\u001b[39m `` -> `...7`\n",
      "\u001b[36m•\u001b[39m `` -> `...8`\n"
     ]
    },
    {
     "data": {
      "text/html": [
       "<table class=\"dataframe\">\n",
       "<caption>A tibble: 258 × 6</caption>\n",
       "<thead>\n",
       "\t<tr><th scope=col>STG</th><th scope=col>SCG</th><th scope=col>STR</th><th scope=col>LPR</th><th scope=col>PEG</th><th scope=col>UNS</th></tr>\n",
       "\t<tr><th scope=col>&lt;dbl&gt;</th><th scope=col>&lt;dbl&gt;</th><th scope=col>&lt;dbl&gt;</th><th scope=col>&lt;dbl&gt;</th><th scope=col>&lt;dbl&gt;</th><th scope=col>&lt;fct&gt;</th></tr>\n",
       "</thead>\n",
       "<tbody>\n",
       "\t<tr><td>0.00</td><td>0.00</td><td>0.00</td><td>0.00</td><td>0.00</td><td>very_low</td></tr>\n",
       "\t<tr><td>0.08</td><td>0.08</td><td>0.10</td><td>0.24</td><td>0.90</td><td>High    </td></tr>\n",
       "\t<tr><td>0.06</td><td>0.06</td><td>0.05</td><td>0.25</td><td>0.33</td><td>Low     </td></tr>\n",
       "\t<tr><td>⋮</td><td>⋮</td><td>⋮</td><td>⋮</td><td>⋮</td><td>⋮</td></tr>\n",
       "\t<tr><td>0.54</td><td>0.82</td><td>0.71</td><td>0.29</td><td>0.77</td><td>High  </td></tr>\n",
       "\t<tr><td>0.50</td><td>0.75</td><td>0.81</td><td>0.61</td><td>0.26</td><td>Middle</td></tr>\n",
       "\t<tr><td>0.66</td><td>0.90</td><td>0.76</td><td>0.87</td><td>0.74</td><td>High  </td></tr>\n",
       "</tbody>\n",
       "</table>\n"
      ],
      "text/latex": [
       "A tibble: 258 × 6\n",
       "\\begin{tabular}{llllll}\n",
       " STG & SCG & STR & LPR & PEG & UNS\\\\\n",
       " <dbl> & <dbl> & <dbl> & <dbl> & <dbl> & <fct>\\\\\n",
       "\\hline\n",
       "\t 0.00 & 0.00 & 0.00 & 0.00 & 0.00 & very\\_low\\\\\n",
       "\t 0.08 & 0.08 & 0.10 & 0.24 & 0.90 & High    \\\\\n",
       "\t 0.06 & 0.06 & 0.05 & 0.25 & 0.33 & Low     \\\\\n",
       "\t ⋮ & ⋮ & ⋮ & ⋮ & ⋮ & ⋮\\\\\n",
       "\t 0.54 & 0.82 & 0.71 & 0.29 & 0.77 & High  \\\\\n",
       "\t 0.50 & 0.75 & 0.81 & 0.61 & 0.26 & Middle\\\\\n",
       "\t 0.66 & 0.90 & 0.76 & 0.87 & 0.74 & High  \\\\\n",
       "\\end{tabular}\n"
      ],
      "text/markdown": [
       "\n",
       "A tibble: 258 × 6\n",
       "\n",
       "| STG &lt;dbl&gt; | SCG &lt;dbl&gt; | STR &lt;dbl&gt; | LPR &lt;dbl&gt; | PEG &lt;dbl&gt; | UNS &lt;fct&gt; |\n",
       "|---|---|---|---|---|---|\n",
       "| 0.00 | 0.00 | 0.00 | 0.00 | 0.00 | very_low |\n",
       "| 0.08 | 0.08 | 0.10 | 0.24 | 0.90 | High     |\n",
       "| 0.06 | 0.06 | 0.05 | 0.25 | 0.33 | Low      |\n",
       "| ⋮ | ⋮ | ⋮ | ⋮ | ⋮ | ⋮ |\n",
       "| 0.54 | 0.82 | 0.71 | 0.29 | 0.77 | High   |\n",
       "| 0.50 | 0.75 | 0.81 | 0.61 | 0.26 | Middle |\n",
       "| 0.66 | 0.90 | 0.76 | 0.87 | 0.74 | High   |\n",
       "\n"
      ],
      "text/plain": [
       "    STG  SCG  STR  LPR  PEG  UNS     \n",
       "1   0.00 0.00 0.00 0.00 0.00 very_low\n",
       "2   0.08 0.08 0.10 0.24 0.90 High    \n",
       "3   0.06 0.06 0.05 0.25 0.33 Low     \n",
       "⋮   ⋮    ⋮    ⋮    ⋮    ⋮    ⋮       \n",
       "256 0.54 0.82 0.71 0.29 0.77 High    \n",
       "257 0.50 0.75 0.81 0.61 0.26 Middle  \n",
       "258 0.66 0.90 0.76 0.87 0.74 High    "
      ]
     },
     "metadata": {},
     "output_type": "display_data"
    },
    {
     "name": "stderr",
     "output_type": "stream",
     "text": [
      "\u001b[1m\u001b[22mNew names:\n",
      "\u001b[36m•\u001b[39m `` -> `...7`\n",
      "\u001b[36m•\u001b[39m `` -> `...8`\n"
     ]
    }
   ],
   "source": [
    "library(readxl)\n",
    "\n",
    "user_data_training <- read_excel(\"Data_User_Modeling_Dataset_Hamdi Tolga KAHRAMAN.xls\", sheet = 2) |> \n",
    "              select(STG:UNS) |>\n",
    "             mutate(UNS = as_factor(UNS))\n",
    "user_data_training\n",
    "\n",
    "user_data_testing <- read_excel(\"Data_User_Modeling_Dataset_Hamdi Tolga KAHRAMAN.xls\", sheet = 3) |>\n",
    "             select(STG:UNS) |>\n",
    "             mutate(UNS = as_factor(UNS))"
   ]
  },
  {
   "cell_type": "code",
   "execution_count": 40,
   "id": "b31e5473-e339-4454-9436-95a9b2bb70ac",
   "metadata": {},
   "outputs": [
    {
     "data": {
      "text/html": [
       "<table class=\"dataframe\">\n",
       "<caption>A tibble: 4 × 7</caption>\n",
       "<thead>\n",
       "\t<tr><th scope=col>UNS</th><th scope=col>count</th><th scope=col>mean_STG</th><th scope=col>mean_SCG</th><th scope=col>mean_STR</th><th scope=col>mean_LPR</th><th scope=col>mean_PEG</th></tr>\n",
       "\t<tr><th scope=col>&lt;fct&gt;</th><th scope=col>&lt;int&gt;</th><th scope=col>&lt;dbl&gt;</th><th scope=col>&lt;dbl&gt;</th><th scope=col>&lt;dbl&gt;</th><th scope=col>&lt;dbl&gt;</th><th scope=col>&lt;dbl&gt;</th></tr>\n",
       "</thead>\n",
       "<tbody>\n",
       "\t<tr><td>Very Low</td><td>26</td><td>0.2161538</td><td>0.3207692</td><td>0.3426923</td><td>0.1858077</td><td>0.1003846</td></tr>\n",
       "\t<tr><td>Low     </td><td>46</td><td>0.3369565</td><td>0.2971739</td><td>0.4145652</td><td>0.3626087</td><td>0.2823913</td></tr>\n",
       "\t<tr><td>High    </td><td>39</td><td>0.3830769</td><td>0.4423077</td><td>0.5228205</td><td>0.6102564</td><td>0.8438462</td></tr>\n",
       "\t<tr><td>Middle  </td><td>34</td><td>0.3088235</td><td>0.3652941</td><td>0.4505882</td><td>0.4964706</td><td>0.5029412</td></tr>\n",
       "</tbody>\n",
       "</table>\n"
      ],
      "text/latex": [
       "A tibble: 4 × 7\n",
       "\\begin{tabular}{lllllll}\n",
       " UNS & count & mean\\_STG & mean\\_SCG & mean\\_STR & mean\\_LPR & mean\\_PEG\\\\\n",
       " <fct> & <int> & <dbl> & <dbl> & <dbl> & <dbl> & <dbl>\\\\\n",
       "\\hline\n",
       "\t Very Low & 26 & 0.2161538 & 0.3207692 & 0.3426923 & 0.1858077 & 0.1003846\\\\\n",
       "\t Low      & 46 & 0.3369565 & 0.2971739 & 0.4145652 & 0.3626087 & 0.2823913\\\\\n",
       "\t High     & 39 & 0.3830769 & 0.4423077 & 0.5228205 & 0.6102564 & 0.8438462\\\\\n",
       "\t Middle   & 34 & 0.3088235 & 0.3652941 & 0.4505882 & 0.4964706 & 0.5029412\\\\\n",
       "\\end{tabular}\n"
      ],
      "text/markdown": [
       "\n",
       "A tibble: 4 × 7\n",
       "\n",
       "| UNS &lt;fct&gt; | count &lt;int&gt; | mean_STG &lt;dbl&gt; | mean_SCG &lt;dbl&gt; | mean_STR &lt;dbl&gt; | mean_LPR &lt;dbl&gt; | mean_PEG &lt;dbl&gt; |\n",
       "|---|---|---|---|---|---|---|\n",
       "| Very Low | 26 | 0.2161538 | 0.3207692 | 0.3426923 | 0.1858077 | 0.1003846 |\n",
       "| Low      | 46 | 0.3369565 | 0.2971739 | 0.4145652 | 0.3626087 | 0.2823913 |\n",
       "| High     | 39 | 0.3830769 | 0.4423077 | 0.5228205 | 0.6102564 | 0.8438462 |\n",
       "| Middle   | 34 | 0.3088235 | 0.3652941 | 0.4505882 | 0.4964706 | 0.5029412 |\n",
       "\n"
      ],
      "text/plain": [
       "  UNS      count mean_STG  mean_SCG  mean_STR  mean_LPR  mean_PEG \n",
       "1 Very Low 26    0.2161538 0.3207692 0.3426923 0.1858077 0.1003846\n",
       "2 Low      46    0.3369565 0.2971739 0.4145652 0.3626087 0.2823913\n",
       "3 High     39    0.3830769 0.4423077 0.5228205 0.6102564 0.8438462\n",
       "4 Middle   34    0.3088235 0.3652941 0.4505882 0.4964706 0.5029412"
      ]
     },
     "metadata": {},
     "output_type": "display_data"
    }
   ],
   "source": [
    "# Summarizing the data\n",
    "user_summary <- user_data_testing |>\n",
    "    group_by(UNS) |>\n",
    "    summarize(count = n(), mean_STG = mean(STG), mean_SCG = mean(SCG), mean_STR = mean(STR), mean_LPR = mean(LPR), mean_PEG = mean(PEG))\n",
    "\n",
    "user_summary"
   ]
  },
  {
   "cell_type": "code",
   "execution_count": null,
   "id": "a17f3da5-113c-4b5f-a0f9-837b6e0d2d79",
   "metadata": {},
   "outputs": [],
   "source": []
  }
 ],
 "metadata": {
  "kernelspec": {
   "display_name": "R",
   "language": "R",
   "name": "ir"
  },
  "language_info": {
   "codemirror_mode": "r",
   "file_extension": ".r",
   "mimetype": "text/x-r-source",
   "name": "R",
   "pygments_lexer": "r",
   "version": "4.3.1"
  }
 },
 "nbformat": 4,
 "nbformat_minor": 5
}
