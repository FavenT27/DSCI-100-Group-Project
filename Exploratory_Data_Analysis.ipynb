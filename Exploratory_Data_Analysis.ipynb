{
 "cells": [
  {
   "cell_type": "markdown",
   "id": "834fc7e3-a308-4ddf-a971-a413473d1d25",
   "metadata": {},
   "source": [
    "## Preliminary Data Exploratory Data Analysis"
   ]
  },
  {
   "cell_type": "code",
   "execution_count": 1,
   "id": "1a5c2a50-b3ac-46b4-8e6c-814a8b14541c",
   "metadata": {},
   "outputs": [],
   "source": [
    "# To do:\n",
    "# Clean/wrangle the data\n",
    "# Make visualization study time vs knowledge\n",
    "# Make visualization repetition vs knowledge\n"
   ]
  },
  {
   "cell_type": "code",
   "execution_count": null,
   "id": "ac704ded-73bb-4edb-8bf8-da52370a3dfe",
   "metadata": {},
   "outputs": [],
   "source": []
  }
 ],
 "metadata": {
  "kernelspec": {
   "display_name": "R",
   "language": "R",
   "name": "ir"
  },
  "language_info": {
   "codemirror_mode": "r",
   "file_extension": ".r",
   "mimetype": "text/x-r-source",
   "name": "R",
   "pygments_lexer": "r",
   "version": "4.3.1"
  }
 },
 "nbformat": 4,
 "nbformat_minor": 5
}
