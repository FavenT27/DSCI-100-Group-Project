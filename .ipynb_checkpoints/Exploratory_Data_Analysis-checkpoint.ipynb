{
 "cells": [
  {
   "cell_type": "markdown",
   "id": "834fc7e3-a308-4ddf-a971-a413473d1d25",
   "metadata": {},
   "source": [
    "## Preliminary Data Exploratory Data Analysis"
   ]
  },
  {
   "cell_type": "code",
   "execution_count": 1,
   "id": "1a5c2a50-b3ac-46b4-8e6c-814a8b14541c",
   "metadata": {},
   "outputs": [],
   "source": [
    "# To do:\n",
    "# Clean/wrangle the data\n",
    "# Make visualization study time vs knowledge\n",
    "# Make visualization repetition vs knowledge\n"
   ]
  },
  {
   "cell_type": "code",
   "execution_count": 30,
   "id": "6b8decab-6a81-40c5-ac24-93233a43096c",
   "metadata": {},
   "outputs": [
    {
     "name": "stderr",
     "output_type": "stream",
     "text": [
      "\u001b[1m\u001b[22mNew names:\n",
      "\u001b[36m•\u001b[39m `` -> `...7`\n",
      "\u001b[36m•\u001b[39m `` -> `...8`\n"
     ]
    },
    {
     "data": {
      "text/html": [
       "<table class=\"dataframe\">\n",
       "<caption>A tibble: 258 × 6</caption>\n",
       "<thead>\n",
       "\t<tr><th scope=col>STG</th><th scope=col>SCG</th><th scope=col>STR</th><th scope=col>LPR</th><th scope=col>PEG</th><th scope=col>UNS</th></tr>\n",
       "\t<tr><th scope=col>&lt;dbl&gt;</th><th scope=col>&lt;dbl&gt;</th><th scope=col>&lt;dbl&gt;</th><th scope=col>&lt;dbl&gt;</th><th scope=col>&lt;dbl&gt;</th><th scope=col>&lt;fct&gt;</th></tr>\n",
       "</thead>\n",
       "<tbody>\n",
       "\t<tr><td>0.00</td><td>0.00</td><td>0.00</td><td>0.00</td><td>0.00</td><td>very_low</td></tr>\n",
       "\t<tr><td>0.08</td><td>0.08</td><td>0.10</td><td>0.24</td><td>0.90</td><td>High    </td></tr>\n",
       "\t<tr><td>0.06</td><td>0.06</td><td>0.05</td><td>0.25</td><td>0.33</td><td>Low     </td></tr>\n",
       "\t<tr><td>⋮</td><td>⋮</td><td>⋮</td><td>⋮</td><td>⋮</td><td>⋮</td></tr>\n",
       "\t<tr><td>0.54</td><td>0.82</td><td>0.71</td><td>0.29</td><td>0.77</td><td>High  </td></tr>\n",
       "\t<tr><td>0.50</td><td>0.75</td><td>0.81</td><td>0.61</td><td>0.26</td><td>Middle</td></tr>\n",
       "\t<tr><td>0.66</td><td>0.90</td><td>0.76</td><td>0.87</td><td>0.74</td><td>High  </td></tr>\n",
       "</tbody>\n",
       "</table>\n"
      ],
      "text/latex": [
       "A tibble: 258 × 6\n",
       "\\begin{tabular}{llllll}\n",
       " STG & SCG & STR & LPR & PEG & UNS\\\\\n",
       " <dbl> & <dbl> & <dbl> & <dbl> & <dbl> & <fct>\\\\\n",
       "\\hline\n",
       "\t 0.00 & 0.00 & 0.00 & 0.00 & 0.00 & very\\_low\\\\\n",
       "\t 0.08 & 0.08 & 0.10 & 0.24 & 0.90 & High    \\\\\n",
       "\t 0.06 & 0.06 & 0.05 & 0.25 & 0.33 & Low     \\\\\n",
       "\t ⋮ & ⋮ & ⋮ & ⋮ & ⋮ & ⋮\\\\\n",
       "\t 0.54 & 0.82 & 0.71 & 0.29 & 0.77 & High  \\\\\n",
       "\t 0.50 & 0.75 & 0.81 & 0.61 & 0.26 & Middle\\\\\n",
       "\t 0.66 & 0.90 & 0.76 & 0.87 & 0.74 & High  \\\\\n",
       "\\end{tabular}\n"
      ],
      "text/markdown": [
       "\n",
       "A tibble: 258 × 6\n",
       "\n",
       "| STG &lt;dbl&gt; | SCG &lt;dbl&gt; | STR &lt;dbl&gt; | LPR &lt;dbl&gt; | PEG &lt;dbl&gt; | UNS &lt;fct&gt; |\n",
       "|---|---|---|---|---|---|\n",
       "| 0.00 | 0.00 | 0.00 | 0.00 | 0.00 | very_low |\n",
       "| 0.08 | 0.08 | 0.10 | 0.24 | 0.90 | High     |\n",
       "| 0.06 | 0.06 | 0.05 | 0.25 | 0.33 | Low      |\n",
       "| ⋮ | ⋮ | ⋮ | ⋮ | ⋮ | ⋮ |\n",
       "| 0.54 | 0.82 | 0.71 | 0.29 | 0.77 | High   |\n",
       "| 0.50 | 0.75 | 0.81 | 0.61 | 0.26 | Middle |\n",
       "| 0.66 | 0.90 | 0.76 | 0.87 | 0.74 | High   |\n",
       "\n"
      ],
      "text/plain": [
       "    STG  SCG  STR  LPR  PEG  UNS     \n",
       "1   0.00 0.00 0.00 0.00 0.00 very_low\n",
       "2   0.08 0.08 0.10 0.24 0.90 High    \n",
       "3   0.06 0.06 0.05 0.25 0.33 Low     \n",
       "⋮   ⋮    ⋮    ⋮    ⋮    ⋮    ⋮       \n",
       "256 0.54 0.82 0.71 0.29 0.77 High    \n",
       "257 0.50 0.75 0.81 0.61 0.26 Middle  \n",
       "258 0.66 0.90 0.76 0.87 0.74 High    "
      ]
     },
     "metadata": {},
     "output_type": "display_data"
    }
   ],
   "source": [
    "# Necessary libraries\n",
    "library(tidyverse)\n",
    "library(repr)\n",
    "library(rvest)\n",
    "library(stringr)\n",
    "library(janitor)\n",
    "options(repr.matrix.max.rows = 6)\n",
    "#source(\"tests.R\")\n",
    "#source(\"cleanup.R\")\n",
    "\n",
    "user_data <- read_excel(\"Data_User_Modeling_Dataset_Hamdi Tolga KAHRAMAN.xls\", sheet = 2)\n",
    "user_data <- select(user_data, STG:UNS) |>\n",
    "             mutate(UNS = as_factor(UNS))\n",
    "user_data"
   ]
  },
  {
   "cell_type": "code",
   "execution_count": null,
   "id": "ac704ded-73bb-4edb-8bf8-da52370a3dfe",
   "metadata": {},
   "outputs": [],
   "source": []
  },
  {
   "cell_type": "code",
   "execution_count": null,
   "id": "b31e5473-e339-4454-9436-95a9b2bb70ac",
   "metadata": {},
   "outputs": [],
   "source": []
  }
 ],
 "metadata": {
  "kernelspec": {
   "display_name": "R",
   "language": "R",
   "name": "ir"
  },
  "language_info": {
   "codemirror_mode": "r",
   "file_extension": ".r",
   "mimetype": "text/x-r-source",
   "name": "R",
   "pygments_lexer": "r",
   "version": "4.3.1"
  }
 },
 "nbformat": 4,
 "nbformat_minor": 5
}
